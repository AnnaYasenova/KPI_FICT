{
 "cells": [
  {
   "cell_type": "code",
   "execution_count": 44,
   "metadata": {},
   "outputs": [],
   "source": [
    "import numpy as np\n",
    "import pandas as pd\n",
    "import scipy.stats as stats"
   ]
  },
  {
   "cell_type": "code",
   "execution_count": null,
   "metadata": {},
   "outputs": [],
   "source": []
  },
  {
   "cell_type": "code",
   "execution_count": 4,
   "metadata": {},
   "outputs": [],
   "source": [
    "%matplotlib inline"
   ]
  },
  {
   "cell_type": "markdown",
   "metadata": {},
   "source": [
    "## Exponential distribution"
   ]
  },
  {
   "cell_type": "code",
   "execution_count": 5,
   "metadata": {},
   "outputs": [],
   "source": [
    "lambdas = [.25, .5, 1, 5]"
   ]
  },
  {
   "cell_type": "code",
   "execution_count": 6,
   "metadata": {},
   "outputs": [],
   "source": [
    "e_arr = np.random.uniform(size=10000)"
   ]
  },
  {
   "cell_type": "code",
   "execution_count": 7,
   "metadata": {},
   "outputs": [],
   "source": [
    "df_exponential = pd.DataFrame()"
   ]
  },
  {
   "cell_type": "code",
   "execution_count": 8,
   "metadata": {},
   "outputs": [],
   "source": [
    "for lambda_i in lambdas:\n",
    "    x = (-1/lambda_i) * np.log(e_arr)\n",
    "    df_exponential[str(lambda_i)] = x"
   ]
  },
  {
   "cell_type": "code",
   "execution_count": 9,
   "metadata": {},
   "outputs": [
    {
     "data": {
      "text/plain": [
       "array([[<matplotlib.axes._subplots.AxesSubplot object at 0x7efbc251f518>,\n",
       "        <matplotlib.axes._subplots.AxesSubplot object at 0x7efbc04780b8>],\n",
       "       [<matplotlib.axes._subplots.AxesSubplot object at 0x7efbc04452e8>,\n",
       "        <matplotlib.axes._subplots.AxesSubplot object at 0x7efbc03f9e48>]],\n",
       "      dtype=object)"
      ]
     },
     "execution_count": 9,
     "metadata": {},
     "output_type": "execute_result"
    },
    {
     "data": {
      "image/png": "[encoded data removed]",
      "text/plain": [
       "<matplotlib.figure.Figure at 0x7efbc24fcbe0>"
      ]
     },
     "metadata": {},
     "output_type": "display_data"
    }
   ],
   "source": [
    "df_exponential.hist(bins=20, figsize=(15, 10))"
   ]
  },
  {
   "cell_type": "code",
   "execution_count": 11,
   "metadata": {},
   "outputs": [
    {
     "data": {
      "text/plain": [
       "0.25    4.023775\n",
       "0.5     2.011887\n",
       "1       1.005944\n",
       "5       0.201189\n",
       "dtype: float64"
      ]
     },
     "execution_count": 11,
     "metadata": {},
     "output_type": "execute_result"
    }
   ],
   "source": [
    "df_exponential.mean()"
   ]
  },
  {
   "cell_type": "code",
   "execution_count": 14,
   "metadata": {},
   "outputs": [
    {
     "data": {
      "text/plain": [
       "0.25    4.077428\n",
       "0.5     2.038714\n",
       "1       1.019357\n",
       "5       0.203871\n",
       "dtype: float64"
      ]
     },
     "execution_count": 14,
     "metadata": {},
     "output_type": "execute_result"
    }
   ],
   "source": [
    "df_exponential.std()"
   ]
  },
  {
   "cell_type": "code",
   "execution_count": 13,
   "metadata": {},
   "outputs": [
    {
     "data": {
      "text/plain": [
       "0.25    16.625417\n",
       "0.5      4.156354\n",
       "1        1.039089\n",
       "5        0.041564\n",
       "dtype: float64"
      ]
     },
     "execution_count": 13,
     "metadata": {},
     "output_type": "execute_result"
    }
   ],
   "source": [
    "df_exponential.std() ** 2"
   ]
  },
  {
   "cell_type": "code",
   "execution_count": null,
   "metadata": {},
   "outputs": [],
   "source": [
    "def exp_distr(lambda_val, x):\n",
    "    return 1 - np.e ** (-lambda_val * x)"
   ]
  },
  {
   "cell_type": "code",
   "execution_count": 45,
   "metadata": {},
   "outputs": [],
   "source": [
    "n_pow_fr = 20 - 1 - 1"
   ]
  },
  {
   "cell_type": "code",
   "execution_count": 54,
   "metadata": {},
   "outputs": [
    {
     "data": {
      "text/plain": [
       "28.869299430392626"
      ]
     },
     "execution_count": 54,
     "metadata": {},
     "output_type": "execute_result"
    }
   ],
   "source": [
    "crit = stats.chi2.ppf(q = 0.95, df = n_pow_fr)  \n",
    "crit"
   ]
  },
  {
   "cell_type": "code",
   "execution_count": 101,
   "metadata": {},
   "outputs": [
    {
     "name": "stdout",
     "output_type": "stream",
     "text": [
      "Lambda: 0.25 ; chi-square:  27.051760608888042\n",
      "Lambda: 0.5 ; chi-square:  27.063051347794413\n",
      "Lambda: 1 ; chi-square:  27.053699684266746\n",
      "Lambda: 5 ; chi-square:  27.063051347794527\n"
     ]
    }
   ],
   "source": [
    "for lambda_val in lambdas:\n",
    "    df_exponential_stats = pd.DataFrame(\n",
    "        df_exponential[str(lambda_val)]\n",
    "    ).assign(Bin=lambda x: pd.cut(x[str(lambda_val)], bins=20)\n",
    "            ).groupby(['Bin']\n",
    "                     ).agg({str(lambda_val): ['count']})\n",
    "    df_exponential_stats.columns = ['count']\n",
    "    df_exponential_stats = df_exponential_stats.reset_index()\n",
    "    df_exponential_stats['expected'] = df_exponential_stats['Bin'].apply(\n",
    "        lambda x: exp_distr(lambda_val, x.right) - exp_distr(lambda_val, x.left)\n",
    "    ).astype(float)*10000\n",
    "    chi_square = (((df_exponential_stats['count'] - df_exponential_stats['expected']) ** 2) / df_exponential_stats['expected']).sum()\n",
    "    print('Lambda:', lambda_val, '; chi-square: ', chi_square)"
   ]
  },
  {
   "cell_type": "markdown",
   "metadata": {},
   "source": [
    "## Normal distribution"
   ]
  },
  {
   "cell_type": "code",
   "execution_count": 15,
   "metadata": {},
   "outputs": [],
   "source": [
    "a_sigma = [(0, 1), (0, 5), (-1, 3), (1, 3)]"
   ]
  },
  {
   "cell_type": "code",
   "execution_count": 16,
   "metadata": {},
   "outputs": [],
   "source": [
    "e_arr = np.random.uniform(size=(10000, 12))"
   ]
  },
  {
   "cell_type": "code",
   "execution_count": 17,
   "metadata": {},
   "outputs": [],
   "source": [
    "mu_arr = np.sum(e_arr, axis=1) - 6"
   ]
  },
  {
   "cell_type": "code",
   "execution_count": 18,
   "metadata": {},
   "outputs": [],
   "source": [
    "df_normal = pd.DataFrame()"
   ]
  },
  {
   "cell_type": "code",
   "execution_count": 105,
   "metadata": {},
   "outputs": [],
   "source": [
    "for a, sigma in a_sigma:\n",
    "    x = sigma * mu_arr + a\n",
    "    df_normal[str(param_pair)] = x"
   ]
  },
  {
   "cell_type": "code",
   "execution_count": 106,
   "metadata": {},
   "outputs": [
    {
     "data": {
      "text/plain": [
       "array([[<matplotlib.axes._subplots.AxesSubplot object at 0x7efbad7df898>,\n",
       "        <matplotlib.axes._subplots.AxesSubplot object at 0x7efbad991630>],\n",
       "       [<matplotlib.axes._subplots.AxesSubplot object at 0x7efbad658dd8>,\n",
       "        <matplotlib.axes._subplots.AxesSubplot object at 0x7efbad622ef0>]],\n",
       "      dtype=object)"
      ]
     },
     "execution_count": 106,
     "metadata": {},
     "output_type": "execute_result"
    },
    {
     "data": {
      "image/png": "[encoded data removed]",
      "text/plain": [
       "<matplotlib.figure.Figure at 0x7efbad75a320>"
      ]
     },
     "metadata": {},
     "output_type": "display_data"
    }
   ],
   "source": [
    "df_normal.hist(bins=20, figsize=(15, 10))"
   ]
  },
  {
   "cell_type": "code",
   "execution_count": 107,
   "metadata": {},
   "outputs": [
    {
     "data": {
      "text/plain": [
       "(0, 1)     0.016726\n",
       "(0, 5)     0.083631\n",
       "(-1, 3)   -0.949822\n",
       "(1, 3)     1.050178\n",
       "dtype: float64"
      ]
     },
     "execution_count": 107,
     "metadata": {},
     "output_type": "execute_result"
    }
   ],
   "source": [
    "df_normal.mean()"
   ]
  },
  {
   "cell_type": "code",
   "execution_count": 108,
   "metadata": {},
   "outputs": [
    {
     "data": {
      "text/plain": [
       "(0, 1)     0.988261\n",
       "(0, 5)     4.941305\n",
       "(-1, 3)    2.964783\n",
       "(1, 3)     2.964783\n",
       "dtype: float64"
      ]
     },
     "execution_count": 108,
     "metadata": {},
     "output_type": "execute_result"
    }
   ],
   "source": [
    "df_normal.std()"
   ]
  },
  {
   "cell_type": "code",
   "execution_count": 109,
   "metadata": {},
   "outputs": [
    {
     "data": {
      "text/plain": [
       "(0, 1)      0.976660\n",
       "(0, 5)     24.416492\n",
       "(-1, 3)     8.789937\n",
       "(1, 3)      8.789937\n",
       "dtype: float64"
      ]
     },
     "execution_count": 109,
     "metadata": {},
     "output_type": "execute_result"
    }
   ],
   "source": [
    "df_normal.std() ** 2"
   ]
  },
  {
   "cell_type": "code",
   "execution_count": 127,
   "metadata": {},
   "outputs": [],
   "source": [
    "def norm_distr(a, sigma, x):\n",
    "    return stats.norm.cdf((x - a)/sigma) - 0.5#np.exp(-((x-a)**2)/(2 * sigma**2))/(sigma * np.sqrt(2*np.pi))"
   ]
  },
  {
   "cell_type": "code",
   "execution_count": 128,
   "metadata": {},
   "outputs": [],
   "source": [
    "n_pow_fr = 20 - 1 - 2"
   ]
  },
  {
   "cell_type": "code",
   "execution_count": 129,
   "metadata": {},
   "outputs": [
    {
     "data": {
      "text/plain": [
       "27.587111638275324"
      ]
     },
     "execution_count": 129,
     "metadata": {},
     "output_type": "execute_result"
    }
   ],
   "source": [
    "crit = stats.chi2.ppf(q = 0.95, df = n_pow_fr)  \n",
    "crit"
   ]
  },
  {
   "cell_type": "code",
   "execution_count": 130,
   "metadata": {},
   "outputs": [
    {
     "name": "stdout",
     "output_type": "stream",
     "text": [
      "a: 0 sigma: 1 ; chi-square:  18.16060977512681\n",
      "a: 0 sigma: 5 ; chi-square:  18.330875194703196\n",
      "a: -1 sigma: 3 ; chi-square:  18.27837254293354\n",
      "a: 1 sigma: 3 ; chi-square:  18.278372542933624\n"
     ]
    }
   ],
   "source": [
    "for a, sigma in a_sigma:\n",
    "    df_norm_stats = pd.DataFrame(\n",
    "        df_normal[str((a, sigma))]\n",
    "    ).assign(Bin=lambda x: pd.cut(x[str((a, sigma))], bins=20)\n",
    "            ).groupby(['Bin']\n",
    "                     ).agg({str((a, sigma)): ['count']})\n",
    "    df_norm_stats.columns = ['count']\n",
    "    df_norm_stats = df_norm_stats.reset_index()\n",
    "    df_norm_stats['expected'] = df_norm_stats['Bin'].apply(\n",
    "        lambda x: norm_distr(a, sigma, x.right) - norm_distr(a, sigma, x.left)\n",
    "    ).astype(float)*10000\n",
    "    chi_square = (((df_norm_stats['count'] - df_norm_stats['expected']) ** 2) / df_norm_stats['expected']).sum()\n",
    "    print('a:', a, 'sigma:', sigma, '; chi-square: ', chi_square)"
   ]
  },
  {
   "cell_type": "markdown",
   "metadata": {},
   "source": [
    "## Congruent method"
   ]
  },
  {
   "cell_type": "code",
   "execution_count": 27,
   "metadata": {},
   "outputs": [],
   "source": [
    "a_c_pairs = [(5**13, 2**31), (5**7, 2**15), (5**7, 2**13)]"
   ]
  },
  {
   "cell_type": "code",
   "execution_count": 28,
   "metadata": {},
   "outputs": [],
   "source": [
    "tmp = []"
   ]
  },
  {
   "cell_type": "code",
   "execution_count": 32,
   "metadata": {},
   "outputs": [],
   "source": [
    "df_congr = pd.DataFrame()"
   ]
  },
  {
   "cell_type": "code",
   "execution_count": 33,
   "metadata": {},
   "outputs": [],
   "source": [
    "for pair in a_c_pairs:\n",
    "    a, c = pair\n",
    "    z_i = 11\n",
    "    n_generated = []\n",
    "    for i in range(10000):\n",
    "        x_i = z_i / c\n",
    "        z_i = (a*z_i) % c\n",
    "        n_generated.append(x_i)\n",
    "    df_congr[str(pair)] = n_generated"
   ]
  },
  {
   "cell_type": "code",
   "execution_count": 39,
   "metadata": {},
   "outputs": [
    {
     "data": {
      "text/plain": [
       "array([<matplotlib.axes._subplots.AxesSubplot object at 0x7efbbf870a58>,\n",
       "       <matplotlib.axes._subplots.AxesSubplot object at 0x7efbbf7397b8>,\n",
       "       <matplotlib.axes._subplots.AxesSubplot object at 0x7efbbf7280b8>],\n",
       "      dtype=object)"
      ]
     },
     "execution_count": 39,
     "metadata": {},
     "output_type": "execute_result"
    },
    {
     "data": {
      "image/png": "[encoded data removed]",
      "text/plain": [
       "<matplotlib.figure.Figure at 0x7efbbf8b82b0>"
      ]
     },
     "metadata": {},
     "output_type": "display_data"
    }
   ],
   "source": [
    "df_congr.plot.hist(bins=20, subplots=True, figsize=(15, 10))"
   ]
  },
  {
   "cell_type": "code",
   "execution_count": 40,
   "metadata": {},
   "outputs": [
    {
     "data": {
      "text/plain": [
       "(1220703125, 2147483648)    0.502524\n",
       "(78125, 32768)              0.500646\n",
       "(78125, 8192)               0.500583\n",
       "dtype: float64"
      ]
     },
     "execution_count": 40,
     "metadata": {},
     "output_type": "execute_result"
    }
   ],
   "source": [
    "df_congr.mean()"
   ]
  },
  {
   "cell_type": "code",
   "execution_count": 41,
   "metadata": {},
   "outputs": [
    {
     "data": {
      "text/plain": [
       "(1220703125, 2147483648)    0.289543\n",
       "(78125, 32768)              0.288779\n",
       "(78125, 8192)               0.288592\n",
       "dtype: float64"
      ]
     },
     "execution_count": 41,
     "metadata": {},
     "output_type": "execute_result"
    }
   ],
   "source": [
    "df_congr.std()"
   ]
  },
  {
   "cell_type": "code",
   "execution_count": 43,
   "metadata": {},
   "outputs": [
    {
     "data": {
      "text/plain": [
       "0.2886751345948129"
      ]
     },
     "execution_count": 43,
     "metadata": {},
     "output_type": "execute_result"
    }
   ],
   "source": [
    "1 / (2 * 3**.5)"
   ]
  },
  {
   "cell_type": "code",
   "execution_count": 131,
   "metadata": {},
   "outputs": [],
   "source": [
    "n_pow_fr = 20 - 1 - 2"
   ]
  },
  {
   "cell_type": "code",
   "execution_count": 132,
   "metadata": {},
   "outputs": [
    {
     "data": {
      "text/plain": [
       "27.587111638275324"
      ]
     },
     "execution_count": 132,
     "metadata": {},
     "output_type": "execute_result"
    }
   ],
   "source": [
    "crit = stats.chi2.ppf(q = 0.95, df = n_pow_fr)  \n",
    "crit"
   ]
  },
  {
   "cell_type": "code",
   "execution_count": 134,
   "metadata": {},
   "outputs": [
    {
     "name": "stdout",
     "output_type": "stream",
     "text": [
      "a: 5.122274160385132e-09 b: 0.9999452973715961 ; chi-square:  18.278372542933624\n",
      "a: 9.1552734375e-05 b: 0.999969482421875 ; chi-square:  18.278372542933624\n",
      "a: 0.0003662109375 b: 0.9998779296875 ; chi-square:  18.278372542933624\n"
     ]
    }
   ],
   "source": [
    "for a, b in a_c_pairs:\n",
    "    df_unif_stats = pd.DataFrame(\n",
    "        df_congr[str((a, b))]\n",
    "    ).assign(Bin=lambda x: pd.cut(x[str((a, b))], bins=20)\n",
    "            ).groupby(['Bin']\n",
    "                     ).agg({str((a, b)): ['count']})\n",
    "    df_unif_stats.columns = ['count']\n",
    "    df_unif_stats = df_unif_stats.reset_index()\n",
    "    df_unif_stats['expected'] = 10000/20\n",
    "    chi_square = (((df_norm_stats['count'] - df_norm_stats['expected']) ** 2) / df_norm_stats['expected']).sum()\n",
    "    print('a:', df_congr[str((a, b))].min(), 'b:', df_congr[str((a, b))].max(), '; chi-square: ', chi_square)"
   ]
  },
  {
   "cell_type": "code",
   "execution_count": null,
   "metadata": {},
   "outputs": [],
   "source": []
  }
 ],
 "metadata": {
  "kernelspec": {
   "display_name": "Python 3",
   "language": "python",
   "name": "python3"
  },
  "language_info": {
   "codemirror_mode": {
    "name": "ipython",
    "version": 3
   },
   "file_extension": ".py",
   "mimetype": "text/x-python",
   "name": "python",
   "nbconvert_exporter": "python",
   "pygments_lexer": "ipython3",
   "version": "3.5.2"
  }
 },
 "nbformat": 4,
 "nbformat_minor": 2
}
