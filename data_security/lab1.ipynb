{
 "cells": [
  {
   "cell_type": "code",
   "execution_count": 1,
   "metadata": {},
   "outputs": [],
   "source": [
    "import base64\n",
    "import sys\n",
    "import pandas as pd\n",
    "import numpy as np\n",
    "from math import log10\n",
    "from collections import Counter\n",
    "from itertools import product\n",
    "import wordninja\n",
    "\n",
    "from bisect import bisect_left\n",
    "from itertools import permutations\n",
    "\n",
    "from matplotlib import pyplot as plt\n",
    "\n",
    "from collections import defaultdict"
   ]
  },
  {
   "cell_type": "code",
   "execution_count": 2,
   "metadata": {},
   "outputs": [],
   "source": [
    "%matplotlib inline"
   ]
  },
  {
   "cell_type": "markdown",
   "metadata": {},
   "source": [
    "https://github.com/moosejuice/Cryptopals/tree/master/Set%201\n",
    "https://laconicwolf.com/2018/06/30/cryptopals-challenge-6-break-repeating-key-xor/\n",
    "\n",
    "https://github.com/rygao/cryptopals"
   ]
  },
  {
   "cell_type": "markdown",
   "metadata": {},
   "source": [
    "# Task 0"
   ]
  },
  {
   "cell_type": "code",
   "execution_count": 3,
   "metadata": {},
   "outputs": [],
   "source": [
    "file_task = open('task.txt', 'r')\n",
    "encoded_str = file_task.read()"
   ]
  },
  {
   "cell_type": "code",
   "execution_count": 4,
   "metadata": {},
   "outputs": [],
   "source": [
    "file_output = open('step1.txt', 'wb')\n",
    "file_output.write(base64.b64decode(base64.b64decode(encoded_str)))\n",
    "file_output.close()"
   ]
  },
  {
   "cell_type": "markdown",
   "metadata": {},
   "source": [
    "# Task 1"
   ]
  },
  {
   "cell_type": "code",
   "execution_count": 5,
   "metadata": {},
   "outputs": [],
   "source": [
    "task1 = ']|d3gaj3r3avcvrgz}t>xvj3K\\A3pzc{va=3V=t=3zg3`{|f.w3grxv3r3`gaz}t31{v..|3d|a.w13r}w?3tzev}3g{v3xvj3z`31xvj1?3k|a3g{v3uza`g3.vggva31{13dzg{31x1?3g{v}3k|a31v13dzg{31v1?3g{v}31.13dzg{31j1?3r}w3g{v}3k|a3}vkg3p{ra31.13dzg{31x13rtrz}?3g{v}31|13dzg{31v13r}w3`|3|}=3J|f3~rj3f`v3z}wvk3|u3p|z}pzwv}pv?3[r~~z}t3wz`gr}pv?3Xr`z`xz3vkr~z}rgz|}?3`grgz`gzpr.3gv`g`3|a3d{rgveva3~vg{|w3j|f3uvv.3d|f.w3`{|d3g{v3qv`g3av`f.g='"
   ]
  },
  {
   "cell_type": "code",
   "execution_count": 6,
   "metadata": {},
   "outputs": [],
   "source": [
    "charset = 'abcdefghijklmnopqrstuvwxyzABCDEFGHIJKLMNOPQRSTUVWXYZ0123456789,.' + ' ' + '\\''\n",
    "charset_lower = 'abcdefghijklmnopqrstuvwxyz'"
   ]
  },
  {
   "cell_type": "code",
   "execution_count": 7,
   "metadata": {},
   "outputs": [],
   "source": [
    "def score(text):    \n",
    "    score = 0\n",
    "    for s in text:\n",
    "        score = score + 1 if s in charset else score\n",
    "    return score"
   ]
  },
  {
   "cell_type": "code",
   "execution_count": 8,
   "metadata": {},
   "outputs": [],
   "source": [
    "def xor(string, key):\n",
    "    return ''.join(list(chr(ord(char) ^ ord(key)) for char in string))"
   ]
  },
  {
   "cell_type": "code",
   "execution_count": 9,
   "metadata": {},
   "outputs": [
    {
     "name": "stdout",
     "output_type": "stream",
     "text": [
      "Plaintext: Now try a repeating-key XOR cipher. E.g. it shou=d take a string \"he==o wor=d\" and, given the key is \"key\", xor the first =etter \"h\" with \"k\", then xor \"e\" with \"e\", then \"=\" with \"y\", and then xor next char \"=\" with \"k\" again, then \"o\" with \"e\" and so on. You may use index of coincidence, Hamming distance, Kasiski examination, statistica= tests or whatever method you fee= wou=d show the best resu=t.\n"
     ]
    }
   ],
   "source": [
    "best = ''\n",
    "b = 0\n",
    "key = 0\n",
    "\n",
    "for i in range(1, 256):\n",
    "    c = xor(task1, chr(i))\n",
    "    if score(c) > b:\n",
    "        key = i\n",
    "        b = score(c)\n",
    "        best = c\n",
    "\n",
    "print('Plaintext: {}'.format(best))"
   ]
  },
  {
   "cell_type": "code",
   "execution_count": 10,
   "metadata": {},
   "outputs": [
    {
     "data": {
      "text/plain": [
       "19"
      ]
     },
     "execution_count": 10,
     "metadata": {},
     "output_type": "execute_result"
    }
   ],
   "source": [
    "key"
   ]
  },
  {
   "cell_type": "code",
   "execution_count": 11,
   "metadata": {},
   "outputs": [],
   "source": [
    "file_task_2 = open('step2.txt', 'w')\n",
    "file_task_2.write(best)\n",
    "file_task_2.close()"
   ]
  },
  {
   "cell_type": "markdown",
   "metadata": {},
   "source": [
    "# Task 2"
   ]
  },
  {
   "cell_type": "markdown",
   "metadata": {},
   "source": [
    "https://inventwithpython.com/cracking/chapter20.html"
   ]
  },
  {
   "cell_type": "code",
   "execution_count": 12,
   "metadata": {},
   "outputs": [],
   "source": [
    "task2 = '1c41023f564b2a130824570e6b47046b521f3f5208201318245e0e6b40022643072e13183e51183f5a1f3e4702245d4b285a1b23561965133f2413192e571e28564b3f5b0e6b50042643072e4b023f4a4b24554b3f5b0238130425564b3c564b3c5a0727131e38564b245d0732131e3b430e39500a38564b27561f3f5619381f4b385c4b3f5b0e6b580e32401b2a500e6b5a186b5c05274a4b79054a6b67046b540e3f131f235a186b5c052e13192254033f130a3e470426521f22500a275f126b4a043e131c225f076b431924510a295f126b5d0e2e574b3f5c4b3e400e6b400426564b385c193f13042d130c2e5d0e3f5a086b52072c5c192247032613433c5b02285b4b3c5c1920560f6b47032e13092e401f6b5f0a38474b32560a391a476b40022646072a470e2f130a255d0e2a5f0225544b24414b2c410a2f5a0e25474b2f56182856053f1d4b185619225c1e385f1267131c395a1f2e13023f13192254033f13052444476b4a043e131c225f076b5d0e2e574b22474b3f5c4b2f56082243032e414b3f5b0e6b5d0e33474b245d0e6b52186b440e275f456b710e2a414b225d4b265a052f1f4b3f5b0e395689cbaa186b5d046b401b2a500e381d61'"
   ]
  },
  {
   "cell_type": "code",
   "execution_count": 13,
   "metadata": {},
   "outputs": [],
   "source": [
    "labels = list(zip(*Counter(task2).items()))\n",
    "letters = pd.DataFrame(labels).transpose()\n",
    "letters.columns = ['label', 'counter_value']"
   ]
  },
  {
   "cell_type": "code",
   "execution_count": 14,
   "metadata": {},
   "outputs": [
    {
     "data": {
      "text/plain": [
       "<matplotlib.axes._subplots.AxesSubplot at 0x7efbc198be80>"
      ]
     },
     "execution_count": 14,
     "metadata": {},
     "output_type": "execute_result"
    },
    {
     "data": {
      "image/png": "[encoded data removed]",
      "text/plain": [
       "<matplotlib.figure.Figure at 0x7efbc199e710>"
      ]
     },
     "metadata": {},
     "output_type": "display_data"
    }
   ],
   "source": [
    "letters.set_index('label').plot.bar(figsize=(12, 8))"
   ]
  },
  {
   "cell_type": "code",
   "execution_count": 15,
   "metadata": {},
   "outputs": [
    {
     "data": {
      "text/plain": [
       "bytearray(b'\\x1cA\\x02?VK*\\x13\\x08$W\\x0ekG\\x04kR\\x1f?R\\x08 \\x13\\x18$^\\x0ek@\\x02&C\\x07.\\x13\\x18>Q\\x18?Z\\x1f>G\\x02$]K(Z\\x1b#V\\x19e\\x13?$\\x13\\x19.W\\x1e(VK?[\\x0ekP\\x04&C\\x07.K\\x02?JK$UK?[\\x028\\x13\\x04%VK<VK<Z\\x07\\'\\x13\\x1e8VK$]\\x072\\x13\\x1e;C\\x0e9P\\n8VK\\'V\\x1f?V\\x198\\x1fK8\\\\K?[\\x0ekX\\x0e2@\\x1b*P\\x0ekZ\\x18k\\\\\\x05\\'JKy\\x05Jkg\\x04kT\\x0e?\\x13\\x1f#Z\\x18k\\\\\\x05.\\x13\\x19\"T\\x03?\\x13\\n>G\\x04&R\\x1f\"P\\n\\'_\\x12kJ\\x04>\\x13\\x1c\"_\\x07kC\\x19$Q\\n)_\\x12k]\\x0e.WK?\\\\K>@\\x0ek@\\x04&VK8\\\\\\x19?\\x13\\x04-\\x13\\x0c.]\\x0e?Z\\x08kR\\x07,\\\\\\x19\"G\\x03&\\x13C<[\\x02([K<\\\\\\x19 V\\x0fkG\\x03.\\x13\\t.@\\x1fk_\\n8GK2V\\n9\\x1aGk@\\x02&F\\x07*G\\x0e/\\x13\\n%]\\x0e*_\\x02%TK$AK,A\\n/Z\\x0e%GK/V\\x18(V\\x05?\\x1dK\\x18V\\x19\"\\\\\\x1e8_\\x12g\\x13\\x1c9Z\\x1f.\\x13\\x02?\\x13\\x19\"T\\x03?\\x13\\x05$DGkJ\\x04>\\x13\\x1c\"_\\x07k]\\x0e.WK\"GK?\\\\K/V\\x08\"C\\x03.AK?[\\x0ek]\\x0e3GK$]\\x0ekR\\x18kD\\x0e\\'_Ekq\\x0e*AK\"]K&Z\\x05/\\x1fK?[\\x0e9V\\x89\\xcb\\xaa\\x18k]\\x04k@\\x1b*P\\x0e8\\x1da')"
      ]
     },
     "execution_count": 15,
     "metadata": {},
     "output_type": "execute_result"
    }
   ],
   "source": [
    "task_2_hex = bytearray.fromhex(task2)\n",
    "task_2_hex"
   ]
  },
  {
   "cell_type": "markdown",
   "metadata": {},
   "source": [
    "* https://en.wikipedia.org/wiki/Index_of_coincidence\n",
    "* індекс співпадінь\n",
    "* https://www.thonky.com/kryptos/index-of-coincidence"
   ]
  },
  {
   "cell_type": "code",
   "execution_count": 16,
   "metadata": {},
   "outputs": [],
   "source": [
    "word_set = set(pd.read_csv('list_words.txt', header=None, sep='\\t').fillna(' ')[0].map(str.lower))"
   ]
  },
  {
   "cell_type": "code",
   "execution_count": 17,
   "metadata": {},
   "outputs": [],
   "source": [
    "def xor(string, key):\n",
    "    return ''.join(list(chr(char ^ ord(key)) for char in string))"
   ]
  },
  {
   "cell_type": "code",
   "execution_count": 18,
   "metadata": {},
   "outputs": [],
   "source": [
    "def text_score(text):\n",
    "    score = 0\n",
    "    for w in text.split():\n",
    "        score = score + 1 if w in word_set else score\n",
    "    return score"
   ]
  },
  {
   "cell_type": "code",
   "execution_count": 19,
   "metadata": {},
   "outputs": [],
   "source": [
    "def ic(text, delta):\n",
    "    if delta > 0:\n",
    "        counter = 0\n",
    "        shuffled_text = text[-delta:] + text[:-delta]\n",
    "        for i in range(len(text)):\n",
    "            counter = counter + 1 if text[i] == shuffled_text[i] else counter\n",
    "        return counter / len(text)"
   ]
  },
  {
   "cell_type": "code",
   "execution_count": 20,
   "metadata": {},
   "outputs": [],
   "source": [
    "def vigenere(encoded, key):\n",
    "    key = key * (len(encoded) // len(key) + 1)\n",
    "    key = key[:len(encoded)]\n",
    "    \n",
    "    return ''.join(list(chr(chr_encoded ^ ord(chr_key)) for chr_encoded, chr_key in zip(encoded, key)))"
   ]
  },
  {
   "cell_type": "code",
   "execution_count": 21,
   "metadata": {},
   "outputs": [],
   "source": [
    "def choose_characters(symbls):\n",
    "    score_chars = {\n",
    "        chr(i): score(xor(symbls, chr(i))) for i in range(1, 255)\n",
    "    }\n",
    "    \n",
    "    possible_comb = [\n",
    "        char for char, value in score_chars.items() if value > int(len(symbls) * 0.75)\n",
    "    ]\n",
    "    \n",
    "    return possible_comb"
   ]
  },
  {
   "cell_type": "markdown",
   "metadata": {},
   "source": [
    "https://docs.python.org/2/library/itertools.html#itertools.product"
   ]
  },
  {
   "cell_type": "code",
   "execution_count": 22,
   "metadata": {},
   "outputs": [],
   "source": [
    "def generate_keys(text, size):\n",
    "    # size - key lenght\n",
    "    possible_chars = []\n",
    "    for i in range(size):\n",
    "        possible_chars.append(choose_characters(text[i::size]))  \n",
    "    return list(product(*possible_chars)) #cartesian product, equivalent to a nested for-loop"
   ]
  },
  {
   "cell_type": "code",
   "execution_count": 23,
   "metadata": {},
   "outputs": [
    {
     "data": {
      "text/plain": [
       "('Write a code to attack some simple substitution cipher. To reduce the complexity of this one we will use only uppercase letters, so the keyspace is only 26! To get this one right automatically you will probably need to use some sort of genetic algorithm (which worked the best last year), simulated annealing or gradient descent. Seriously, write it right now, you will need it to decipher the next one as well. Bear in mind, thereâ\\x80\\x99s no spaces.\\n',\n",
       " 'K3k')"
      ]
     },
     "execution_count": 23,
     "metadata": {},
     "output_type": "execute_result"
    }
   ],
   "source": [
    "prior=(1 / 52)\n",
    "\n",
    "ic_dict = {\n",
    "    i: ic(task_2_hex, i) for i in range(1, len(task_2_hex) // 2)\n",
    "}\n",
    "\n",
    "ic_dict = {\n",
    "    k: v for k, v in ic_dict.items() \n",
    "    if v > prior\n",
    "}\n",
    "\n",
    "k_len = np.min(list(ic_dict.keys()))\n",
    "\n",
    "result = ''\n",
    "res_key = None\n",
    "\n",
    "possible_keys = generate_keys(task_2_hex, k_len)\n",
    "\n",
    "for key in possible_keys:\n",
    "    possible_decoded = vigenere(task_2_hex, key)\n",
    "\n",
    "    if text_score(possible_decoded) > text_score(result):\n",
    "        result = possible_decoded\n",
    "        res_key = key\n",
    "\n",
    "res_key = ''.join(res_key)\n",
    "\n",
    "result, res_key"
   ]
  },
  {
   "cell_type": "code",
   "execution_count": 24,
   "metadata": {},
   "outputs": [],
   "source": [
    "file_task_3 = open('step3.txt', 'w')\n",
    "file_task_3.write(result)\n",
    "file_task_3.close()"
   ]
  },
  {
   "cell_type": "markdown",
   "metadata": {},
   "source": [
    "# Task 3"
   ]
  },
  {
   "cell_type": "markdown",
   "metadata": {},
   "source": [
    "Words: https://raw.githubusercontent.com/dwyl/english-words/master/words.txt"
   ]
  },
  {
   "cell_type": "markdown",
   "metadata": {},
   "source": [
    "http://ikuz.eu/2017/06/30/breaking-substitution-cipher-using-genetic-algorithm/"
   ]
  },
  {
   "cell_type": "code",
   "execution_count": 30,
   "metadata": {},
   "outputs": [],
   "source": [
    "task3 = 'EFFPQLEKVTVPCPYFLMVHQLUEWCNVWFYGHYTCETHQEKLPVMSAKSPVPAPVYWMVHQLUSPQLYWLASLFVWPQLMVHQLUPLRPSQLULQESPBLWPCSVRVWFLHLWFLWPUEWFYOTCMQYSLWOYWYETHQEKLPVMSAKSPVPAPVYWHEPPLUWSGYULEMQTLPPLUGUYOLWDTVSQETHQEKLPVPVSMTLEUPQEPCYAMEWWYOYULULTCYWPQLSEOLSVOHTLUYAPVWLYGDALSSVWDPQLNLCKCLRQEASPVILSLEUMQBQVMQCYAHUYKEKTCASLFPYFLMVHQLUHULIVYASHEUEDUEHQBVTTPQLVWFLRYGMYVWMVFLWMLSPVTTBYUNESESADDLSPVYWCYAMEWPUCPYFVIVFLPQLOLSSEDLVWHEUPSKCPQLWAOKLUYGMQEUEMPLUSVWENLCEWFEHHTCGULXALWMCEWETCSVSPYLEMQYGPQLOMEWCYAGVWFEBECPYASLQVDQLUYUFLUGULXALWMCSPEPVSPVMSBVPQPQVSPCHLYGMVHQLUPQLWLRPHEUEDUEHQMYWPEVWSSYOLHULPPCVWPLULSPVWDVWGYUOEPVYWEKYAPSYOLEFFVPVYWETULBEUF'"
   ]
  },
  {
   "cell_type": "code",
   "execution_count": 31,
   "metadata": {},
   "outputs": [],
   "source": [
    "task_3_encoded = task3.lower()"
   ]
  },
  {
   "cell_type": "code",
   "execution_count": 32,
   "metadata": {},
   "outputs": [],
   "source": [
    "def decode_subst(s, key_to_decode={}):\n",
    "    return ''.join(key_to_decode.get(x, '?') for x in s)"
   ]
  },
  {
   "cell_type": "code",
   "execution_count": 33,
   "metadata": {},
   "outputs": [],
   "source": [
    "sizes_set = (1, 2, 3, 4, 5, 6)"
   ]
  },
  {
   "cell_type": "code",
   "execution_count": 34,
   "metadata": {},
   "outputs": [],
   "source": [
    "def weight(sizes=sizes_set): \n",
    "    words = pd.read_csv('words_frequency_dict.txt', sep=' ', header=None)\n",
    "    \n",
    "    words = words.fillna(' ')\n",
    "    words[0] = words[0].map(str.lower)\n",
    "    words[1] = words[1] / words[1].sum()\n",
    "\n",
    "    total_prob = defaultdict(float)\n",
    "    n_gram_counter = defaultdict(int)\n",
    "    \n",
    "    for _, row in words.iterrows():\n",
    "        w, probability = row[0], row[1]\n",
    "        \n",
    "        for n_gr_size in sizes:\n",
    "            for i in range(len(w) - n_gr_size + 1):\n",
    "                key = w[i:(i + n_gr_size)]\n",
    "\n",
    "                if not all(x in charset for x in key):\n",
    "                    continue\n",
    "\n",
    "                total_prob[key] += probability\n",
    "                n_gram_counter[key] += 1\n",
    "\n",
    "    w = {\n",
    "        i: total_prob[i] / n_gram_counter[i] for i in n_gram_counter.keys()\n",
    "    }\n",
    "    \n",
    "    return w"
   ]
  },
  {
   "cell_type": "code",
   "execution_count": 27,
   "metadata": {},
   "outputs": [],
   "source": [
    "ngram_weights = weight()"
   ]
  },
  {
   "cell_type": "code",
   "execution_count": 35,
   "metadata": {},
   "outputs": [],
   "source": [
    "def score_subst(text, n_grams, weights_dict):\n",
    "    score = 0.\n",
    "    \n",
    "    for t, n_gr_size in enumerate(n_grams):\n",
    "        for i in range(len(text) - n_gr_size + 1):\n",
    "            score += weights_dict.get(text[i:(i + n_gr_size)], 0.)\n",
    "            \n",
    "    return score\n",
    "\n",
    "def key_dict_rand():\n",
    "    initial_charset = set(charset_lower)\n",
    "    initial_dict = {}\n",
    "    \n",
    "    for c in set(charset_lower):\n",
    "        decode = np.random.choice(list(initial_charset))        \n",
    "        initial_charset.remove(decode)\n",
    "        \n",
    "        initial_dict[c] = decode\n",
    "    \n",
    "    return initial_dict\n",
    "\n",
    "\n",
    "def key_dict_update(key_dicts, key, val):\n",
    "    new = [k for k, v in key_dicts.items() if v == val][0]\n",
    "    key_dicts[key], key_dicts[new] =  key_dicts[new], key_dicts[key]\n",
    "    \n",
    "    return key_dicts\n",
    "\n",
    "def init_population(text, best_char_amount):\n",
    "    chars_freq = 'etaoinsrhdluc'\n",
    "        \n",
    "    chars_freq = chars_freq[:best_char_amount]\n",
    "    # r-length tuples, all possible orderings, no repeated elements\n",
    "    chars_freq_comb = [''.join(p) for p in permutations(chars_freq)]\n",
    "    \n",
    "    top_symbols_in_s = ''.join([x[0] for x in sorted(Counter(text).items(), key=lambda x: -x[-1])])[:best_char_amount]\n",
    "    \n",
    "    population = [\n",
    "        key_dict_rand()\n",
    "        for _ in range(len(chars_freq_comb))\n",
    "    ]\n",
    "    \n",
    "    for i in range(len(population)):\n",
    "        for c1, c2 in zip(top_symbols_in_s, chars_freq_comb[i]):\n",
    "            key_dict_update(population[i], c1, c2)\n",
    "            \n",
    "    return population\n",
    "\n",
    "def softmax(score_vals):\n",
    "    score_vals = np.array(score_vals)\n",
    "    e_x = np.exp(score_vals - np.max(score_vals))\n",
    "    return e_x / e_x.sum(axis=0)\n",
    "\n",
    "\n",
    "def crossover(key_d, scores, population_size):\n",
    "    p_arr = softmax(scores)\n",
    "    p_arr = np.cumsum(p_arr)\n",
    "    population = []\n",
    "    \n",
    "    for _ in range(population_size):\n",
    "        # get parents based on scores\n",
    "        x, y = key_d[bisect_left(p_arr, np.random.rand())], key_d[bisect_left(p_arr, np.random.rand())]\n",
    "        next_c = x.copy()\n",
    "        \n",
    "        for k in next_c.keys():\n",
    "            key_dict_update(next_c, k, np.random.choice([x, y])[k])\n",
    "            \n",
    "        population.append(next_c)\n",
    "        \n",
    "    return population\n",
    "\n",
    "\n",
    "def mutate(key_d, bound_prob=0.25):\n",
    "    for i in range(len(key_d)):\n",
    "        while np.random.rand() < bound_prob:\n",
    "            pos_1 = np.random.choice(list(charset_lower))\n",
    "            pos_2 = np.random.choice(list(charset_lower))            \n",
    "            key_dict_update(key_d[i], pos_1, pos_2)               \n",
    "    return key_d\n",
    "\n",
    "def decode_algorithm(encoded, best_char_amount, n_grams_size, ngram_weights, \n",
    "                     wait_counter=50, cr_part=0.75, max_iters=500):# 0 500\n",
    "    \n",
    "    population = init_population(encoded, best_char_amount)\n",
    "    \n",
    "    #print(len(population)) if 6, len(population) = 720\n",
    "    \n",
    "    score_val = -1\n",
    "    res = None\n",
    "    count_temp = wait_counter\n",
    "    \n",
    "    while max_iters:\n",
    "        scores = [\n",
    "            score_subst(decode_subst(encoded, key_to_decode=x), n_grams_size, ngram_weights) for x in population\n",
    "        ]\n",
    "        \n",
    "        identifiers = np.argsort(scores)\n",
    "        \n",
    "        if scores[identifiers[-1]] <= score_val:\n",
    "            if count_temp  == 0 :\n",
    "                break\n",
    "            else:\n",
    "                if  scores[identifiers[-1]] == score_val:\n",
    "                    res = population[identifiers[-1]]\n",
    "                    \n",
    "                count_temp -= 1\n",
    "           \n",
    "        else:\n",
    "            count_temp = wait_counter\n",
    "\n",
    "        score_val = scores[identifiers[-1]]\n",
    "        res = population[identifiers[-1]]\n",
    "                \n",
    "        identifiers = identifiers[int(len(scores) * cr_part):]\n",
    "        \n",
    "        population = crossover([population[i] for i in identifiers], \n",
    "                               [scores[i] for i in identifiers],\n",
    "                               len(population))\n",
    "        population = mutate(population)\n",
    "        max_iters -= 1\n",
    "        \n",
    "    decoded = \" \".join(wordninja.split(decode_subst(encoded, key_to_decode=res)))\n",
    "        \n",
    "    return decoded, res"
   ]
  },
  {
   "cell_type": "code",
   "execution_count": 36,
   "metadata": {},
   "outputs": [],
   "source": [
    "task_3_decoded, decode_dict = decode_algorithm(encoded=task_3_encoded, best_char_amount=6, \n",
    "                                               n_grams_size=sizes_set, ngram_weights=ngram_weights,)"
   ]
  },
  {
   "cell_type": "code",
   "execution_count": 37,
   "metadata": {},
   "outputs": [
    {
     "data": {
      "text/plain": [
       "'add the ability to decipher any kind of poly alphabetic substitution ciphers the one used in the ciphertexts here has twenty six independent randomly chosen mono alphabetic substitution patterns for each letter from english alphabet it is clear that you can no more rely on the same simple routine of guessing the key by exhaustive search which you probably used to decipher previous paragraph will the indexof coincidence still work as a suggestion you can try to divide the message in parts by the number of characters in a key and apply frequency analysis to each of them can you find away to use higher order frequency statistics with this type of cipher the next paragraph contains some pretty interesting information about some additional reward'"
      ]
     },
     "execution_count": 37,
     "metadata": {},
     "output_type": "execute_result"
    }
   ],
   "source": [
    "task_3_decoded"
   ]
  },
  {
   "cell_type": "code",
   "execution_count": 39,
   "metadata": {},
   "outputs": [
    {
     "data": {
      "text/plain": [
       "{'a': 'u',\n",
       " 'b': 'w',\n",
       " 'c': 'y',\n",
       " 'd': 'g',\n",
       " 'e': 'a',\n",
       " 'f': 'd',\n",
       " 'g': 'f',\n",
       " 'h': 'p',\n",
       " 'i': 'v',\n",
       " 'j': 'j',\n",
       " 'k': 'b',\n",
       " 'l': 'e',\n",
       " 'm': 'c',\n",
       " 'n': 'k',\n",
       " 'o': 'm',\n",
       " 'p': 't',\n",
       " 'q': 'h',\n",
       " 'r': 'x',\n",
       " 's': 's',\n",
       " 't': 'l',\n",
       " 'u': 'r',\n",
       " 'v': 'i',\n",
       " 'w': 'n',\n",
       " 'x': 'q',\n",
       " 'y': 'o',\n",
       " 'z': 'z'}"
      ]
     },
     "execution_count": 39,
     "metadata": {},
     "output_type": "execute_result"
    }
   ],
   "source": [
    "decode_dict"
   ]
  },
  {
   "cell_type": "markdown",
   "metadata": {},
   "source": [
    "add the ability to decipher any kind of poly alphabetic substitution ciphers the one used in the ciphertexts here has twenty six independent randomly chosen mono alphabetic substitution patterns for each letter from english alphabet it is clear that you can no more rely on the same simple routine of guessing the key by exhaustive search which you probably used to decipher previous paragraph will the indexof coincidence still work as a suggestion you can try to divide the message in parts by the number of characters in a key and apply frequency analysis to each of them can you find away to use higher order frequency statistics with this type of cipher the next paragraph contains some pretty interesting information about some additional reward"
   ]
  },
  {
   "cell_type": "code",
   "execution_count": null,
   "metadata": {},
   "outputs": [],
   "source": []
  }
 ],
 "metadata": {
  "kernelspec": {
   "display_name": "Python 3",
   "language": "python",
   "name": "python3"
  },
  "language_info": {
   "codemirror_mode": {
    "name": "ipython",
    "version": 3
   },
   "file_extension": ".py",
   "mimetype": "text/x-python",
   "name": "python",
   "nbconvert_exporter": "python",
   "pygments_lexer": "ipython3",
   "version": "3.5.2"
  }
 },
 "nbformat": 4,
 "nbformat_minor": 2
}
