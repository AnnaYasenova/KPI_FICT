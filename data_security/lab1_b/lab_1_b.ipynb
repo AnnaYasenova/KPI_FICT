{
 "cells": [
  {
   "cell_type": "code",
   "execution_count": 47,
   "metadata": {},
   "outputs": [],
   "source": [
    "import string\n",
    "import collections"
   ]
  },
  {
   "cell_type": "code",
   "execution_count": 48,
   "metadata": {},
   "outputs": [],
   "source": [
    "def xor(a, b):\n",
    "    return \"\".join([chr(ord(x) ^ ord(y)) for (x, y) in zip(a, b)])"
   ]
  },
  {
   "cell_type": "code",
   "execution_count": 49,
   "metadata": {},
   "outputs": [],
   "source": [
    "text = [\n",
    "    \"ad924af7a9cdaf3a1bb0c3fe1a20a3f367d82b0f05f8e75643ba688ea2ce8ec88f4762fbe93b50bf5138c7b699\",\n",
    "    \"a59a0eaeb4d1fc325ab797b31425e6bc66d36e5b18efe8060cb32edeaad68180db4979ede43856a24c7d\",\n",
    "    \"a59a0eaeaad7fc3c56fe82fd1f6bb5a769c43a0f0cfae74f0df56fdae3db8d9d840875ecae2557bf563fcea2\",\n",
    "    \"a59a0eaea8ddf93c08fe81e11e2ab2bb6d962f0f1af2f44243b46cc1b6d6c291995d65a9a5234aa204\",\n",
    "    \"ad924af7a9cdaf3a1bb0c3f51439a5b628cf215a1fbdee4302a77a8ea2cc86c8984d65ffac6c58bf5b71dab8841136\",\n",
    "    \"b09b4afda3caf93c5aa78ce6096bb2a67ad86e4302f3e10602b37acbb1829680935137e8bb2919b6503fccfdca5461\",\n",
    "    \"a59a0eaeb5d7af3115b287b31425e6a460d3200f19f5e35406f567dde3cc8d9c9e4179eee92557f1463edc\",\n",
    "    \"a18c09ebb6ccaf2d12bbc3c41227aaf37fde274c05bdf5471aa62edaac82968093452da9eb0456bd5b71c6bfcb56\",\n",
    "\n",
    "    \"ad924af7a9cdaf3a1bb0c3e71a27adf37fdf3a474dfef44914b17d8ea2cc86c89d4d72f9e93556a44d71dfb8980034b3cea5c4d4\",\n",
    "    \"ab864af9a7d4e4790db797fb5b00afbd6fc5acaff9f3e95443b961dda6829680930874e6a42156bf1f25c6a4891c6d\",\n",
    "    \"ad924ae0a3d1fb311facc3f5142eb5f366d93c0f01f2f04f0db22ec8b1cb8786925b37eaa82219b94a23ddf1931b34fa\",\n",
    "    \"ad924aefaad4af341fb0c3f0143ea8a728c1275b05bdff4916f92eccb6d6c286994672a9bd2356f15224cab9d1\",\n",
    "    \"ad924af7a9cdaf3a1bb0c3f51227aaf37cde2b0f18f3e04911b267d8aacc85c89b4179fcbd29\",\n",
    "    \"b39d1ee6e6cbe6210ea7c3e01e28a9bd6cc5690f1af2f4520bf561c8e3c68b9b824979eaac6c4ba4517d89f1ca\",\n",
    "    \"bd9b1ffcb598e62a5aaa8bf65b0ea7a17cde6e4e03f9a64315b07cd7b7ca8b86910863e1a8381ea21f38c7f183006df6c2a5\",\n",
    "    \"a59a0e6c462cf83113bd8bb31238e6be67c42bcded09ff4916f262c2e3c087c897085ae8a76019bc4671dabe8455\"\n",
    "]"
   ]
  },
  {
   "cell_type": "code",
   "execution_count": 50,
   "metadata": {},
   "outputs": [],
   "source": [
    "key_res = [None]*150\n",
    "key_pos = set()"
   ]
  },
  {
   "cell_type": "code",
   "execution_count": 51,
   "metadata": {},
   "outputs": [],
   "source": [
    "for index_1, cipher_text_1 in enumerate(text):\n",
    "\n",
    "    counter = collections.Counter()\n",
    "\n",
    "    for index_2, cipher_text_2 in enumerate(text):\n",
    "        if index_1 != index_2:\n",
    "            for char_ind, char in enumerate(xor(cipher_text_1.decode('hex'), \n",
    "                                                cipher_text_2.decode('hex'))):\n",
    "                if char.isalpha() and char in string.printable: \n",
    "                    counter[char_ind] += 1\n",
    "    space_ind = []\n",
    "\n",
    "    for ind, item in counter.items():\n",
    "        if item >= 7: \n",
    "            space_ind.append(ind)\n",
    "\n",
    "    cipher_xor_space = xor(cipher_text_1.decode('hex'), ' '*150)\n",
    "    for index in space_ind:\n",
    "        key_res[index] = cipher_xor_space[index].encode('hex')\n",
    "        key_pos.add(index)"
   ]
  },
  {
   "cell_type": "code",
   "execution_count": 52,
   "metadata": {},
   "outputs": [],
   "source": [
    "key_res_hex = ''.join([item if item is not None else '00' for item in key_res])"
   ]
  },
  {
   "cell_type": "code",
   "execution_count": 55,
   "metadata": {},
   "outputs": [],
   "source": [
    "target = xor(text[len(text) - 1].decode('hex'), \n",
    "             key_res_hex.decode('hex'))"
   ]
  },
  {
   "cell_type": "code",
   "execution_count": 56,
   "metadata": {},
   "outputs": [],
   "source": [
    "res_txt = ''.join([c if i in key_pos else '_' for i, c in enumerate(target)])"
   ]
  },
  {
   "cell_type": "markdown",
   "metadata": {},
   "source": [
    "for i in range(len(text)):\n",
    "    print 'Line', i\n",
    "    key = xor(text[i].decode('hex'), res_txt)\n",
    "    for line in text:\n",
    "        print(strxor(line.decode('hex'), key))\n",
    "    print"
   ]
  },
  {
   "cell_type": "code",
   "execution_count": 58,
   "metadata": {},
   "outputs": [
    {
     "name": "stdout",
     "output_type": "stream",
     "text": [
      "WWdyouwcanhmake oneaheap hf all tour {innings\n",
      "__  ri$k i< on one 5urn oa pitch and-xoss,\n",
      "__  lo$e, )nd startaagain'at you begennings\n",
      "__  ne!er *reathe aaword fbout ybur lcss;\n",
      "WWdyouwcanhforce yo4r heaut and cerve,and sin\u001b\n",
      "J^dser!e y'ur turn -ong aater thhy ari gone, ^\n",
      "__  sowhol, on whenathere'is noteing en you\n",
      "[I'eptwthehWill whi\"h sayt to thhm: \"Dold on!\\\n",
      "WWdyouwcanhtalk wit) crowcs and feep uour vir\n",
      "\n",
      "QCdwal< wi<h Kings���nor kose thh comaon touc\u0016\n",
      "WWdnei#herhfoes noralovin` frienis cab hurt y\u0011\n",
      "WWdallwmenhcount wi5h you+ but nbne tco much;\n",
      "WWdyouwcanhfill theaunfor`iving `inuti\n",
      "IX0h s>xtyhseconds'aworth'of disyance,run,   \n",
      "G^1rs >s t e Earth  nd evbrythinj thax's in i\n",
      "\n",
      "__ — hic  is more���you ll be l Man  my son_\n"
     ]
    }
   ],
   "source": [
    "key = xor(text[len(text) - 1].decode('hex'),res_txt)\n",
    "for line in text:\n",
    "    print(strxor(line.decode('hex'), key))\n"
   ]
  },
  {
   "cell_type": "markdown",
   "metadata": {},
   "source": [
    "BY RUDYARD KIPLING\n",
    "(‘Brother Square-Toes’—Rewards and Fairies)\n",
    "\n",
    "If you can keep your head when all about you   \n",
    "    Are losing theirs and blaming it on you,   \n",
    "If you can trust yourself when all men doubt you,\n",
    "    But make allowance for their doubting too;   \n",
    "If you can wait and not be tired by waiting,\n",
    "    Or being lied about, don’t deal in lies,\n",
    "Or being hated, don’t give way to hating,\n",
    "    And yet don’t look too good, nor talk too wise:\n",
    "\n",
    "If you can dream—and not make dreams your master;   \n",
    "    If you can think—and not make thoughts your aim;   \n",
    "If you can meet with Triumph and Disaster\n",
    "    And treat those two impostors just the same;   \n",
    "If you can bear to hear the truth you’ve spoken\n",
    "    Twisted by knaves to make a trap for fools,\n",
    "Or watch the things you gave your life to, broken,\n",
    "    And stoop and build ’em up with worn-out tools:\n",
    "\n",
    "If you can make one heap of all your winnings\n",
    "    And risk it on one turn of pitch-and-toss,\n",
    "And lose, and start again at your beginnings\n",
    "    And never breathe a word about your loss;\n",
    "If you can force your heart and nerve and sinew\n",
    "    To serve your turn long after they are gone,   \n",
    "And so hold on when there is nothing in you\n",
    "    Except the Will which says to them: ‘Hold on!’\n",
    "\n",
    "If you can talk with crowds and keep your virtue,   \n",
    "    Or walk with Kings—nor lose the common touch,\n",
    "If neither foes nor loving friends can hurt you,\n",
    "    If all men count with you, but none too much;\n",
    "If you can fill the unforgiving minute\n",
    "    With sixty seconds’ worth of distance run,   \n",
    "Yours is the Earth and everything that’s in it,   \n",
    "    And—which is more—you’ll be a Man, my son!\n"
   ]
  }
 ],
 "metadata": {
  "kernelspec": {
   "display_name": "Python 2",
   "language": "python",
   "name": "python2"
  },
  "language_info": {
   "codemirror_mode": {
    "name": "ipython",
    "version": 2
   },
   "file_extension": ".py",
   "mimetype": "text/x-python",
   "name": "python",
   "nbconvert_exporter": "python",
   "pygments_lexer": "ipython2",
   "version": "2.7.12"
  }
 },
 "nbformat": 4,
 "nbformat_minor": 2
}
