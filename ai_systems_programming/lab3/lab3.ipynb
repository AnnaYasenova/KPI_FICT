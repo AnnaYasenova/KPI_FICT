{
 "cells": [
  {
   "cell_type": "code",
   "execution_count": 2,
   "metadata": {
    "ExecuteTime": {
     "end_time": "2019-11-23T21:44:27.681733Z",
     "start_time": "2019-11-23T21:44:27.543815Z"
    }
   },
   "outputs": [],
   "source": [
    "from matplotlib import pyplot as plt"
   ]
  },
  {
   "cell_type": "code",
   "execution_count": 3,
   "metadata": {
    "ExecuteTime": {
     "end_time": "2019-11-23T21:44:27.920553Z",
     "start_time": "2019-11-23T21:44:27.916549Z"
    }
   },
   "outputs": [],
   "source": [
    "import random\n",
    "def restart(num):\n",
    "    \"\"\"\n",
    "    The restart function establishes a starting state for the n-queens problem, where the n is the given num\n",
    "    \"\"\"\n",
    "    state = [0]*num\n",
    "    for i in range(num):\n",
    "        r = random.randrange(num)\n",
    "        state[i] = r\n",
    "    return state"
   ]
  },
  {
   "cell_type": "code",
   "execution_count": 4,
   "metadata": {
    "ExecuteTime": {
     "end_time": "2019-11-23T21:44:29.035385Z",
     "start_time": "2019-11-23T21:44:29.030311Z"
    }
   },
   "outputs": [],
   "source": [
    "import math\n",
    "def isAttacking(s, q1, q2):\n",
    "    \"\"\"\n",
    "    The isAttacking function takes in a state and two queens, and checks to see \n",
    "    if the queens are attacking one another\n",
    "    \"\"\"\n",
    "    hdelta = math.fabs(s[q1]-s[q2])\n",
    "    if hdelta == 0: #same column\n",
    "        return True\n",
    "    \n",
    "    vdelta = math.fabs(q1-q2) #on diagonal\n",
    "    if hdelta == vdelta:\n",
    "        return True\n",
    "    return False"
   ]
  },
  {
   "cell_type": "code",
   "execution_count": 5,
   "metadata": {
    "ExecuteTime": {
     "end_time": "2019-11-23T21:44:29.394793Z",
     "start_time": "2019-11-23T21:44:29.390877Z"
    }
   },
   "outputs": [],
   "source": [
    "def objf(state):\n",
    "    \"\"\"\n",
    "    The objf function takes in a state, and returns the number of queens that are not attacking one another\n",
    "    \"\"\"\n",
    "    sum_ = 0\n",
    "    for q1 in range(len(state)):\n",
    "        for q2 in range(len(state)):\n",
    "            if q1==q2:\n",
    "                continue\n",
    "            if not isAttacking(state, q1, q2):\n",
    "                sum_+=1\n",
    "    return sum_"
   ]
  },
  {
   "cell_type": "code",
   "execution_count": 6,
   "metadata": {
    "ExecuteTime": {
     "end_time": "2019-11-23T21:44:29.724739Z",
     "start_time": "2019-11-23T21:44:29.720559Z"
    }
   },
   "outputs": [],
   "source": [
    "def display(board):\n",
    "    \"\"\"\n",
    "    The display function displays a state in the n queens problem\n",
    "    \"\"\"\n",
    "    for row in range(len(board)):\n",
    "        rowStr = str(board[row])\n",
    "        for col in range(len(board)):\n",
    "            if board[row] == col:\n",
    "                rowStr += \" Q\"\n",
    "            else:\n",
    "                rowStr += \" _\"\n",
    "        print(rowStr)\n",
    "    print(\"\\n\"+str(objf(board))+\"\\n\")"
   ]
  },
  {
   "cell_type": "code",
   "execution_count": 7,
   "metadata": {
    "ExecuteTime": {
     "end_time": "2019-11-23T21:44:30.114436Z",
     "start_time": "2019-11-23T21:44:30.110266Z"
    }
   },
   "outputs": [],
   "source": [
    "def nextStates(state):\n",
    "    \"\"\"\n",
    "    The nextStates function takes in a state and returns the possible states if a queen on the board is moved\n",
    "    \"\"\"\n",
    "    lst = []\n",
    "    for r in range(len(state)):\n",
    "        skpi = state[r]\n",
    "        other = list(range(len(state)))\n",
    "        other.remove(skpi)\n",
    "        for o in other:\n",
    "            nstate = list(state)\n",
    "            nstate[r] = o\n",
    "            lst.append(nstate)\n",
    "    return lst\n"
   ]
  },
  {
   "cell_type": "code",
   "execution_count": 8,
   "metadata": {
    "ExecuteTime": {
     "end_time": "2019-11-23T21:44:30.469134Z",
     "start_time": "2019-11-23T21:44:30.461457Z"
    }
   },
   "outputs": [],
   "source": [
    "def kBeamSearch(k, num):\n",
    "    \"\"\"\n",
    "    The kBeamSearch function takes in a k value and a number of queens to evaluate. It then runs a local beam search with\n",
    "    k different values searched for each iteration. It generates k states and checks to see if any of them are a goal state. If \n",
    "    no states are goal states, it then generates all successors of our k states, and chooses the k best states. While doing this,\n",
    "    it keeps track of the best state. If none of the k best states are better than our best state, then it returns the best \n",
    "    state.\n",
    "    \"\"\"\n",
    "    goal = num*(num-1)\n",
    "    #First, we randomly generate k initial states\n",
    "    states = []\n",
    "    best = [1,1,1,1,1,1,1,1] \n",
    "    for i in range(k):\n",
    "        state = restart(num)\n",
    "        if(objf(state) == goal):\n",
    "            #If one of our random states is a goal state, we return that state\n",
    "            return state\n",
    "        states.append(state)\n",
    "        if (objf(state) > objf(best)):\n",
    "            best = state #we keep track of the best state we start with\n",
    "    \n",
    "    for x in range(100):\n",
    "        #We then generate all successors of our k states\n",
    "        nextGen = []\n",
    "        for i in range(k):\n",
    "            nextGen += nextStates(states[i])\n",
    "        #We then find the k best states of our successors\n",
    "        \n",
    "        worseThanBest = 0 #technically, worse than or equal to, but this is shorter\n",
    "        for i in range(k):\n",
    "            m = list(map(objf, nextGen))\n",
    "            next = nextGen[m.index(max(m))]\n",
    "            nextGen.remove(next)\n",
    "            if objf(next) <= objf(best): \n",
    "                #we continue to track our best state, and if no state is better than the best state, the best state is returned\n",
    "                worseThanBest+=1\n",
    "            else:\n",
    "                best = next\n",
    "            states[i] = next\n",
    "            if worseThanBest == k:\n",
    "                return best\n",
    "            \n",
    "            \n",
    "    return best"
   ]
  },
  {
   "cell_type": "code",
   "execution_count": null,
   "metadata": {
    "ExecuteTime": {
     "start_time": "2019-11-24T07:02:42.502Z"
    }
   },
   "outputs": [
    {
     "name": "stdout",
     "output_type": "stream",
     "text": [
      "---------------------------------------------------0----------------------------------------------------\n",
      "---------------------------------------------------1----------------------------------------------------\n",
      "---------------------------------------------------2----------------------------------------------------\n",
      "---------------------------------------------------3----------------------------------------------------\n",
      "---------------------------------------------------4----------------------------------------------------\n",
      "---------------------------------------------------5----------------------------------------------------\n",
      "---------------------------------------------------6----------------------------------------------------\n",
      "---------------------------------------------------7----------------------------------------------------\n",
      "---------------------------------------------------8----------------------------------------------------\n",
      "---------------------------------------------------9----------------------------------------------------\n",
      "---------------------------------------------------10----------------------------------------------------\n",
      "---------------------------------------------------11----------------------------------------------------\n",
      "---------------------------------------------------12----------------------------------------------------\n",
      "---------------------------------------------------13----------------------------------------------------\n",
      "---------------------------------------------------14----------------------------------------------------\n",
      "---------------------------------------------------15----------------------------------------------------\n",
      "---------------------------------------------------16----------------------------------------------------\n",
      "---------------------------------------------------17----------------------------------------------------\n",
      "---------------------------------------------------18----------------------------------------------------\n",
      "---------------------------------------------------19----------------------------------------------------\n",
      "---------------------------------------------------20----------------------------------------------------\n",
      "---------------------------------------------------21----------------------------------------------------\n",
      "---------------------------------------------------22----------------------------------------------------\n",
      "---------------------------------------------------23----------------------------------------------------\n",
      "---------------------------------------------------24----------------------------------------------------\n",
      "---------------------------------------------------25----------------------------------------------------\n",
      "---------------------------------------------------26----------------------------------------------------\n",
      "---------------------------------------------------27----------------------------------------------------\n",
      "---------------------------------------------------28----------------------------------------------------\n",
      "---------------------------------------------------29----------------------------------------------------\n",
      "---------------------------------------------------30----------------------------------------------------\n",
      "---------------------------------------------------31----------------------------------------------------\n",
      "---------------------------------------------------32----------------------------------------------------\n",
      "---------------------------------------------------33----------------------------------------------------\n",
      "---------------------------------------------------34----------------------------------------------------\n",
      "---------------------------------------------------35----------------------------------------------------\n",
      "---------------------------------------------------36----------------------------------------------------\n",
      "---------------------------------------------------37----------------------------------------------------\n",
      "---------------------------------------------------38----------------------------------------------------\n",
      "---------------------------------------------------39----------------------------------------------------\n",
      "---------------------------------------------------40----------------------------------------------------\n",
      "---------------------------------------------------41----------------------------------------------------\n",
      "---------------------------------------------------42----------------------------------------------------\n",
      "---------------------------------------------------43----------------------------------------------------\n",
      "---------------------------------------------------44----------------------------------------------------\n",
      "---------------------------------------------------45----------------------------------------------------\n",
      "---------------------------------------------------46----------------------------------------------------\n",
      "---------------------------------------------------47----------------------------------------------------\n",
      "---------------------------------------------------48----------------------------------------------------\n",
      "---------------------------------------------------49----------------------------------------------------\n",
      "---------------------------------------------------50----------------------------------------------------\n",
      "---------------------------------------------------51----------------------------------------------------\n",
      "---------------------------------------------------52----------------------------------------------------\n",
      "---------------------------------------------------53----------------------------------------------------\n",
      "---------------------------------------------------54----------------------------------------------------\n",
      "---------------------------------------------------55----------------------------------------------------\n",
      "---------------------------------------------------56----------------------------------------------------\n"
     ]
    }
   ],
   "source": [
    "goal = 8*(8-1)\n",
    "allResults = [] #List of all result lists\n",
    "allAvgObjf = [] #list of each average objf result\n",
    "allGoals = [] #List of each 'number of goals' found\n",
    "for k in range(100):\n",
    "    print(\"---------------------------------------------------\"+str(k)+\"----------------------------------------------------\")\n",
    "    results = [] #all fifty results found for this k value\n",
    "    goals = 0\n",
    "    for count in range(10):\n",
    "        results.append(objf(kBeamSearch(k+1, 8)))\n",
    "        if results[count] == goal:\n",
    "            goals += 1\n",
    "    allResults.append(results)\n",
    "    averageObjf = sum(results)/len(results)\n",
    "    allAvgObjf.append(averageObjf)\n",
    "    allGoals.append(goals)\n",
    "    \n",
    "    \n",
    "print(\"AllResults: \"+str(allResults))\n",
    "print(\"AllAverageObjf: \"+str(allAvgObjf))\n",
    "print(\"AllGoals: \"+str(allGoals))\n",
    "\n",
    "plt.figure(1)\n",
    "plt.subplot(131)\n",
    "plt.plot(range(100), allAvgObjf)\n",
    "plt.xlabel(\"Value of k\")\n",
    "plt.ylabel(\"Average Final Objf Value\")\n",
    "\n",
    "plt.figure(2)\n",
    "plt.subplot(132)\n",
    "plt.plot(range(100), allGoals)\n",
    "plt.xlabel(\"Value of k\")\n",
    "plt.ylabel(\"Average times final state was goal state\")\n",
    "plt.show()\n",
    "\n",
    "print(\"Number of times goal was found: \"+str(sum(allGoals)))\n",
    "print(\"Percentage goal was found: \"+str(10*len(allGoals)/1000))\n",
    "print(\"Mean of objf results: \"+str(sum(allAvgObjf)/len(allAvgObjf)))"
   ]
  },
  {
   "cell_type": "code",
   "execution_count": 14,
   "metadata": {
    "ExecuteTime": {
     "end_time": "2019-11-24T16:48:08.734412Z",
     "start_time": "2019-11-24T16:48:08.499868Z"
    }
   },
   "outputs": [
    {
     "name": "stdout",
     "output_type": "stream",
     "text": [
      "AllResults: [[52, 54, 56, 54, 54, 52, 54, 54, 52, 56], [54, 54, 54, 56, 54, 52, 54, 54, 54, 54], [54, 56, 54, 54, 52, 54, 54, 54, 54, 54], [54, 54, 54, 54, 54, 56, 56, 54, 54, 56], [56, 52, 54, 52, 54, 56, 54, 56, 54, 54], [54, 56, 54, 54, 56, 56, 52, 52, 56, 56], [56, 56, 54, 54, 52, 54, 54, 52, 56, 54], [54, 52, 52, 54, 54, 56, 56, 56, 54, 56], [54, 54, 56, 56, 56, 54, 56, 56, 54, 54], [56, 54, 52, 56, 54, 56, 56, 56, 56, 54], [56, 52, 54, 56, 54, 54, 52, 54, 54, 56], [54, 56, 56, 54, 56, 56, 54, 54, 56, 54], [56, 54, 54, 54, 56, 56, 54, 54, 56, 54], [56, 56, 54, 54, 56, 54, 56, 54, 56, 56], [54, 54, 56, 52, 56, 56, 56, 56, 56, 56], [54, 54, 56, 54, 54, 54, 54, 56, 56, 56], [56, 54, 56, 56, 52, 54, 56, 56, 56, 56], [56, 56, 54, 54, 54, 56, 56, 56, 56, 56], [54, 56, 54, 56, 54, 54, 56, 56, 56, 54], [56, 54, 56, 56, 56, 54, 56, 56, 56, 56], [50, 52, 56, 56, 56, 56, 56, 54, 56, 56], [56, 56, 54, 54, 56, 54, 56, 54, 54, 56], [56, 56, 54, 56, 54, 56, 56, 56, 56, 56], [54, 54, 54, 54, 54, 54, 54, 56, 56, 54], [56, 54, 56, 54, 56, 56, 54, 54, 54, 54], [54, 56, 54, 54, 56, 56, 56, 54, 54, 56], [56, 54, 56, 56, 54, 56, 56, 56, 56, 56], [54, 56, 54, 56, 54, 54, 56, 50, 54, 54], [56, 56, 54, 56, 56, 56, 56, 54, 52, 54], [56, 56, 56, 56, 56, 54, 54, 54, 56, 54], [54, 56, 56, 54, 56, 56, 56, 54, 56, 56], [56, 56, 54, 54, 56, 56, 56, 56, 56, 54], [54, 54, 54, 56, 54, 54, 54, 56, 56, 56], [56, 56, 54, 54, 56, 56, 56, 54, 56, 56], [56, 54, 56, 54, 56, 56, 54, 56, 56, 56], [56, 56, 56, 56, 54, 56, 52, 54, 56, 54], [56, 56, 54, 56, 56, 56, 54, 56, 56, 54], [56, 54, 56, 54, 56, 56, 56, 56, 56, 56], [56, 56, 56, 56, 56, 56, 56, 56, 56, 56], [56, 56, 56, 56, 56, 54, 56, 56, 56, 56], [54, 56, 56, 56, 56, 56, 56, 56, 56, 54], [56, 56, 56, 54, 56, 56, 56, 56, 56, 56], [54, 56, 56, 56, 56, 56, 56, 54, 56, 54], [54, 56, 56, 56, 56, 56, 56, 54, 56, 56], [56, 56, 56, 52, 56, 54, 56, 56, 56, 56], [54, 54, 56, 52, 56, 56, 56, 56, 52, 56], [56, 56, 56, 56, 56, 54, 56, 56, 56, 54], [56, 52, 54, 54, 54, 56, 54, 54, 54, 52], [56, 54, 56, 54, 54, 56, 52, 56, 56, 56], [56, 52, 56, 54, 54, 54, 56, 56, 56, 56], [56, 54, 56, 56, 56, 54, 56, 56, 56, 56], [56, 56, 56, 56, 56, 56, 54, 56, 54, 54], [54, 56, 56, 54, 52, 56, 54, 54, 54, 56], [56, 56, 56, 54, 56, 56, 56, 56, 56, 56], [56, 54, 54, 54, 56, 56, 54, 54, 56, 56], [56, 56, 54, 56, 56, 56, 56, 56, 56, 56], [54, 56, 54, 54, 56, 56, 56, 56, 54, 56], [56, 56, 54, 56, 52, 56, 56, 56, 54, 54], [56, 54, 56, 56, 54, 56, 56, 56, 54, 56], [56, 52, 56, 54, 56, 56, 56, 54, 54, 56], [56, 56, 56, 56, 56, 56, 56, 56, 56, 54], [54, 56, 56, 56, 56, 56, 56, 56, 56, 54], [56, 56, 56, 56, 54, 56, 56, 56, 56, 52], [54, 56, 56, 56, 56, 54, 54, 56, 56, 56], [56, 56, 56, 54, 54, 54, 56, 56, 56, 56], [56, 56, 52, 56, 56, 56, 56, 56, 56, 56], [56, 54, 56, 54, 56, 56, 56, 56, 56, 56], [56, 54, 56, 56, 56, 56, 54, 54, 56, 56], [54, 56, 54, 56, 56, 56, 54, 56, 56, 56], [56, 56, 56, 54, 56, 56, 56, 56, 52, 56], [56, 56, 54, 54, 56, 54, 56, 56, 56, 56], [56, 56, 54, 56, 56, 56, 56, 56, 54, 56], [56, 56, 56, 56, 56, 56, 56, 56, 56, 56], [56, 56, 56, 56, 54, 54, 56, 56, 56, 54], [56, 56, 56, 54, 56, 56, 56, 56, 56, 56], [56, 54, 56, 56, 54, 56, 56, 56, 54, 52], [56, 56, 56, 56, 54, 56, 52, 56, 56, 56], [56, 54, 54, 56, 56, 56, 56, 54, 56, 54], [56, 56, 56, 56, 56, 56, 54, 54, 54, 56], [54, 56, 56, 54, 56, 56, 56, 56, 56, 56], [56, 52, 56, 56, 56, 56, 56, 56, 56, 56], [56, 56, 56, 56, 56, 56, 56, 56, 56, 56], [56, 56, 56, 56, 56, 56, 52, 56, 54, 56], [56, 56, 56, 56, 56, 54, 56, 56, 56, 56], [56, 56, 54, 56, 56, 54, 56, 56, 56, 56], [56, 56, 56, 56, 56, 54, 56, 56, 56, 54], [56, 56, 56, 56, 56, 56, 56, 54, 56, 56], [56, 54, 56, 52, 52, 56, 56, 56, 56, 56], [56, 54, 56, 54, 56, 54, 56, 56, 56, 56], [54, 54, 56, 54, 54, 56, 56, 56, 56, 56], [56, 56, 56, 54, 56, 54, 56, 56, 54, 56], [56, 56, 56, 56, 56, 56, 56, 56, 52, 54], [56, 56, 56, 56, 56, 56, 56, 54, 56, 52], [56, 54, 56, 56, 56, 56, 56, 56, 52, 54], [56, 56, 56, 56, 52, 56, 56, 56, 56, 56], [56, 56, 54, 56, 56, 56, 54, 56, 56, 54], [56, 56, 54, 54, 56, 56, 54, 56, 54, 56], [56, 56, 56, 56, 56, 56, 56, 56, 56, 56], [56, 56, 56, 54, 56, 56, 56, 56, 56, 56], [56, 56, 56, 56, 56, 56, 56, 56, 56, 56]]\n",
      "AllAverageObjf: [53.8, 54.0, 54.0, 54.6, 54.2, 54.6, 54.2, 54.4, 55.0, 55.0, 54.2, 55.0, 54.8, 55.2, 55.2, 54.8, 55.2, 55.4, 55.0, 55.6, 54.8, 55.0, 55.6, 54.4, 54.8, 55.0, 55.6, 54.2, 55.0, 55.2, 55.4, 55.4, 54.8, 55.4, 55.4, 55.0, 55.4, 55.6, 56.0, 55.8, 55.6, 55.8, 55.4, 55.6, 55.4, 54.8, 55.6, 54.0, 55.0, 55.0, 55.6, 55.4, 54.6, 55.8, 55.0, 55.8, 55.2, 55.0, 55.4, 55.0, 55.8, 55.6, 55.4, 55.4, 55.4, 55.6, 55.6, 55.4, 55.4, 55.4, 55.4, 55.6, 56.0, 55.4, 55.8, 55.0, 55.4, 55.2, 55.4, 55.6, 55.6, 56.0, 55.4, 55.8, 55.6, 55.6, 55.8, 55.0, 55.4, 55.2, 55.4, 55.4, 55.4, 55.2, 55.6, 55.4, 55.2, 56.0, 55.8, 56.0]\n",
      "AllGoals: [2, 1, 1, 3, 3, 5, 3, 4, 5, 6, 3, 5, 4, 6, 7, 4, 7, 7, 5, 8, 7, 5, 8, 2, 4, 5, 8, 3, 6, 6, 7, 7, 4, 7, 7, 6, 7, 8, 10, 9, 8, 9, 7, 8, 8, 6, 8, 2, 6, 6, 8, 7, 4, 9, 5, 9, 6, 6, 7, 6, 9, 8, 8, 7, 7, 9, 8, 7, 7, 8, 7, 8, 10, 7, 9, 6, 8, 6, 7, 8, 9, 10, 8, 9, 8, 8, 9, 7, 7, 6, 7, 8, 8, 7, 9, 7, 6, 10, 9, 10]\n"
     ]
    },
    {
     "data": {
      "image/png": "[encoded data removed]",
      "text/plain": [
       "<Figure size 432x288 with 1 Axes>"
      ]
     },
     "metadata": {},
     "output_type": "display_data"
    },
    {
     "data": {
      "image/png": "[encoded data removed]",
      "text/plain": [
       "<Figure size 432x288 with 1 Axes>"
      ]
     },
     "metadata": {},
     "output_type": "display_data"
    },
    {
     "name": "stdout",
     "output_type": "stream",
     "text": [
      "Number of times goal was found: 666\n",
      "Percentage goal was found: 1.0\n",
      "Mean of objf results: 55.236000000000004\n"
     ]
    }
   ],
   "source": [
    "print(\"AllResults: \"+str(allResults))\n",
    "print(\"AllAverageObjf: \"+str(allAvgObjf))\n",
    "print(\"AllGoals: \"+str(allGoals))\n",
    "\n",
    "plt.figure(1)\n",
    "plt.subplot(131)\n",
    "plt.plot(range(100), allAvgObjf)\n",
    "plt.xlabel(\"Value of k\")\n",
    "plt.ylabel(\"Average Final Objf Value\")\n",
    "\n",
    "plt.figure(2)\n",
    "plt.subplot(132)\n",
    "plt.plot(range(100), allGoals)\n",
    "plt.xlabel(\"Value of k\")\n",
    "plt.ylabel(\"Average times final state was goal state\")\n",
    "plt.show()\n",
    "\n",
    "print(\"Number of times goal was found: \"+str(sum(allGoals)))\n",
    "print(\"Percentage goal was found: \"+str(10*len(allGoals)/1000))\n",
    "print(\"Mean of objf results: \"+str(sum(allAvgObjf)/len(allAvgObjf)))"
   ]
  },
  {
   "cell_type": "code",
   "execution_count": null,
   "metadata": {},
   "outputs": [],
   "source": []
  }
 ],
 "metadata": {
  "kernelspec": {
   "display_name": "PsyQ",
   "language": "python",
   "name": "django_extensions"
  },
  "language_info": {
   "codemirror_mode": {
    "name": "ipython",
    "version": 3
   },
   "file_extension": ".py",
   "mimetype": "text/x-python",
   "name": "python",
   "nbconvert_exporter": "python",
   "pygments_lexer": "ipython3",
   "version": "3.6.5"
  },
  "varInspector": {
   "cols": {
    "lenName": 16,
    "lenType": 16,
    "lenVar": 40
   },
   "kernels_config": {
    "python": {
     "delete_cmd_postfix": "",
     "delete_cmd_prefix": "del ",
     "library": "var_list.py",
     "varRefreshCmd": "print(var_dic_list())"
    },
    "r": {
     "delete_cmd_postfix": ") ",
     "delete_cmd_prefix": "rm(",
     "library": "var_list.r",
     "varRefreshCmd": "cat(var_dic_list()) "
    }
   },
   "types_to_exclude": [
    "module",
    "function",
    "builtin_function_or_method",
    "instance",
    "_Feature"
   ],
   "window_display": false
  }
 },
 "nbformat": 4,
 "nbformat_minor": 2
}
